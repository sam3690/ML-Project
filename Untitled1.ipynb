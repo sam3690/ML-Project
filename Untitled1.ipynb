{
 "cells": [
  {
   "cell_type": "code",
   "execution_count": 1,
   "id": "a7da462d-7d3d-4dd2-b9df-ddce1901a5f4",
   "metadata": {},
   "outputs": [
    {
     "name": "stdout",
     "output_type": "stream",
     "text": [
      "Requirement already satisfied: numpy in c:\\users\\philip.lobo\\appdata\\local\\programs\\python\\python312\\lib\\site-packages (2.2.5)\n",
      "Requirement already satisfied: scipy in c:\\users\\philip.lobo\\appdata\\local\\programs\\python\\python312\\lib\\site-packages (1.15.2)\n",
      "Note: you may need to restart the kernel to use updated packages.\n"
     ]
    },
    {
     "name": "stderr",
     "output_type": "stream",
     "text": [
      "\n",
      "[notice] A new release of pip is available: 24.0 -> 25.1.1\n",
      "[notice] To update, run: python.exe -m pip install --upgrade pip\n"
     ]
    }
   ],
   "source": [
    "pip install numpy scipy"
   ]
  },
  {
   "cell_type": "code",
   "execution_count": 18,
   "id": "67ffc96a-1c27-4ef7-9406-096972b91f72",
   "metadata": {},
   "outputs": [],
   "source": [
    "import numpy as np\n",
    "import scipy.stats as sp\n"
   ]
  },
  {
   "cell_type": "code",
   "execution_count": 19,
   "id": "f3e3c998-d32e-4ce0-8ac9-4ef204f43314",
   "metadata": {},
   "outputs": [],
   "source": [
    "salaries= np.array([33,22,543,34,663,123,432512,322,22,22,22,4435,45,465,67])"
   ]
  },
  {
   "cell_type": "code",
   "execution_count": 20,
   "id": "58d00723-58ea-4cde-856e-55de562d3169",
   "metadata": {},
   "outputs": [
    {
     "data": {
      "text/plain": [
       "np.float64(29288.666666666668)"
      ]
     },
     "execution_count": 20,
     "metadata": {},
     "output_type": "execute_result"
    }
   ],
   "source": [
    "np.mean(salaries)"
   ]
  },
  {
   "cell_type": "code",
   "execution_count": 21,
   "id": "67559bc3-68ba-4c6d-9388-15d07c1022a0",
   "metadata": {},
   "outputs": [
    {
     "data": {
      "text/plain": [
       "np.float64(67.0)"
      ]
     },
     "execution_count": 21,
     "metadata": {},
     "output_type": "execute_result"
    }
   ],
   "source": [
    "np.median(salaries)"
   ]
  },
  {
   "cell_type": "code",
   "execution_count": 22,
   "id": "8255b975-60fc-4aba-94a5-fd2bdc637c93",
   "metadata": {},
   "outputs": [
    {
     "data": {
      "text/plain": [
       "ModeResult(mode=np.int64(22), count=np.int64(4))"
      ]
     },
     "execution_count": 22,
     "metadata": {},
     "output_type": "execute_result"
    }
   ],
   "source": [
    "sp.mode(salaries)"
   ]
  },
  {
   "cell_type": "code",
   "execution_count": null,
   "id": "141b858c-01c8-41d7-86ac-04695f841906",
   "metadata": {},
   "outputs": [],
   "source": []
  }
 ],
 "metadata": {
  "kernelspec": {
   "display_name": "Python 3 (ipykernel)",
   "language": "python",
   "name": "python3"
  },
  "language_info": {
   "codemirror_mode": {
    "name": "ipython",
    "version": 3
   },
   "file_extension": ".py",
   "mimetype": "text/x-python",
   "name": "python",
   "nbconvert_exporter": "python",
   "pygments_lexer": "ipython3",
   "version": "3.12.4"
  }
 },
 "nbformat": 4,
 "nbformat_minor": 5
}
