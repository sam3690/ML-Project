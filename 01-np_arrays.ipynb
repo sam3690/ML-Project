{
 "cells": [
  {
   "cell_type": "code",
   "execution_count": 2,
   "id": "fabbd694-df4e-405f-8871-f30a021eee1c",
   "metadata": {},
   "outputs": [],
   "source": [
    "import numpy as np"
   ]
  },
  {
   "cell_type": "code",
   "execution_count": 3,
   "id": "9977d3d3-d99a-4649-9b24-6f33c88e37b2",
   "metadata": {},
   "outputs": [
    {
     "name": "stdout",
     "output_type": "stream",
     "text": [
      "1306.4000000000005\n"
     ]
    }
   ],
   "source": [
    "sat_results = [610,1060,1270,675,586,1200,1150,865,452,456,238,9456,1256,1634,475,258,865,656,658,956]\n",
    "sat_percentile = np.percentile(sat_results, 90)\n",
    "print(sat_percentile)"
   ]
  },
  {
   "cell_type": "code",
   "execution_count": null,
   "id": "175435d1-9b15-46de-a14b-ef4e7cafd856",
   "metadata": {},
   "outputs": [],
   "source": [
    "     "
   ]
  }
 ],
 "metadata": {
  "kernelspec": {
   "display_name": "Python 3 (ipykernel)",
   "language": "python",
   "name": "python3"
  },
  "language_info": {
   "codemirror_mode": {
    "name": "ipython",
    "version": 3
   },
   "file_extension": ".py",
   "mimetype": "text/x-python",
   "name": "python",
   "nbconvert_exporter": "python",
   "pygments_lexer": "ipython3",
   "version": "3.12.4"
  }
 },
 "nbformat": 4,
 "nbformat_minor": 5
}
