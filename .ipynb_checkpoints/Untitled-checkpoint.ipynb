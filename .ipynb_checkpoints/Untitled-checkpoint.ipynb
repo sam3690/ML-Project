{
 "cells": [
  {
   "cell_type": "code",
   "execution_count": 2,
   "id": "417e28c3-2d7d-41f2-859e-8f7b1575440e",
   "metadata": {},
   "outputs": [],
   "source": [
    "import numpy as np"
   ]
  },
  {
   "cell_type": "code",
   "execution_count": 4,
   "id": "8ab8d36e-1410-4b82-8d06-1108500bb7c8",
   "metadata": {},
   "outputs": [],
   "source": [
    "integers = np.array([10,22,12,4,5,6])"
   ]
  },
  {
   "cell_type": "code",
   "execution_count": 5,
   "id": "5b485b72-c908-48be-9d4a-e017a97e7d73",
   "metadata": {},
   "outputs": [
    {
     "name": "stdout",
     "output_type": "stream",
     "text": [
      "[10 22 12  4  5  6]\n"
     ]
    }
   ],
   "source": [
    "print(integers)"
   ]
  },
  {
   "cell_type": "code",
   "execution_count": 6,
   "id": "c96996d0-ef37-4b14-aed3-5e603b9e743f",
   "metadata": {},
   "outputs": [
    {
     "data": {
      "text/plain": [
       "np.int64(22)"
      ]
     },
     "execution_count": 6,
     "metadata": {},
     "output_type": "execute_result"
    }
   ],
   "source": [
    "integers[1]"
   ]
  },
  {
   "cell_type": "code",
   "execution_count": 9,
   "id": "021d8f2d-a391-4eab-b8fd-9c9c6eea3093",
   "metadata": {},
   "outputs": [
    {
     "data": {
      "text/plain": [
       "np.int64(10)"
      ]
     },
     "execution_count": 9,
     "metadata": {},
     "output_type": "execute_result"
    }
   ],
   "source": [
    "integers[0]"
   ]
  },
  {
   "cell_type": "code",
   "execution_count": 11,
   "id": "23599ff8-8726-46ba-94b6-2a92986791b7",
   "metadata": {},
   "outputs": [
    {
     "data": {
      "text/plain": [
       "array([20, 22, 12,  4,  5,  6])"
      ]
     },
     "execution_count": 11,
     "metadata": {},
     "output_type": "execute_result"
    }
   ],
   "source": [
    "integers[0]=20\n",
    "integers"
   ]
  },
  {
   "cell_type": "code",
   "execution_count": 15,
   "id": "5bac50be-d544-4aa1-94ce-2f0966816469",
   "metadata": {},
   "outputs": [
    {
     "data": {
      "text/plain": [
       "array([20, 22, 12,  4,  5,  6], dtype=int8)"
      ]
     },
     "execution_count": 15,
     "metadata": {},
     "output_type": "execute_result"
    }
   ],
   "source": [
    "small_integers=np.array(integers, dtype=np.int8)\n",
    "small_integers"
   ]
  },
  {
   "cell_type": "code",
   "execution_count": 17,
   "id": "bd8131bb-3ec7-4dc1-a445-4acb43efac30",
   "metadata": {},
   "outputs": [
    {
     "data": {
      "text/plain": [
       "48"
      ]
     },
     "execution_count": 17,
     "metadata": {},
     "output_type": "execute_result"
    }
   ],
   "source": [
    "integers.nbytes"
   ]
  },
  {
   "cell_type": "code",
   "execution_count": 18,
   "id": "47bad6ef-77ba-4a2c-8060-8f712a696a78",
   "metadata": {},
   "outputs": [
    {
     "data": {
      "text/plain": [
       "6"
      ]
     },
     "execution_count": 18,
     "metadata": {},
     "output_type": "execute_result"
    }
   ],
   "source": [
    "small_integers.nbytes"
   ]
  },
  {
   "cell_type": "code",
   "execution_count": 22,
   "id": "3e41b349-86ca-45b5-ac6a-ae0054b2fc1a",
   "metadata": {},
   "outputs": [
    {
     "data": {
      "text/plain": [
       "array([ 127, -128, -127], dtype=int8)"
      ]
     },
     "execution_count": 22,
     "metadata": {},
     "output_type": "execute_result"
    }
   ],
   "source": [
    "overflow = np.array([127,-128,-127], dtype = np.int8)\n",
    "overflow"
   ]
  }
 ],
 "metadata": {
  "kernelspec": {
   "display_name": "Python 3 (ipykernel)",
   "language": "python",
   "name": "python3"
  },
  "language_info": {
   "codemirror_mode": {
    "name": "ipython",
    "version": 3
   },
   "file_extension": ".py",
   "mimetype": "text/x-python",
   "name": "python",
   "nbconvert_exporter": "python",
   "pygments_lexer": "ipython3",
   "version": "3.12.4"
  }
 },
 "nbformat": 4,
 "nbformat_minor": 5
}
