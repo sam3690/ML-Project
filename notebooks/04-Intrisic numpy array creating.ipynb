{
 "cells": [
  {
   "cell_type": "code",
   "execution_count": 1,
   "id": "3c37ba9f-3b26-4c0c-8488-07eb91c4f9b5",
   "metadata": {},
   "outputs": [],
   "source": [
    "import numpy as np"
   ]
  },
  {
   "cell_type": "code",
   "execution_count": 2,
   "id": "566762b4-32f5-423b-85de-f17f40365a18",
   "metadata": {},
   "outputs": [
    {
     "data": {
      "text/plain": [
       "array([0, 1, 2, 3, 4, 5, 6, 7, 8, 9])"
      ]
     },
     "execution_count": 2,
     "metadata": {},
     "output_type": "execute_result"
    }
   ],
   "source": [
    "integers_arr = np.arange(10)\n",
    "integers_arr"
   ]
  },
  {
   "cell_type": "code",
   "execution_count": 3,
   "id": "9e2b6734-d8b7-4b4d-8c0f-11d87173a7dc",
   "metadata": {},
   "outputs": [
    {
     "data": {
      "text/plain": [
       "array([100, 101, 102, 103, 104, 105, 106, 107, 108, 109, 110, 111, 112,\n",
       "       113, 114, 115, 116, 117, 118, 119, 120, 121, 122, 123, 124, 125,\n",
       "       126, 127, 128, 129])"
      ]
     },
     "execution_count": 3,
     "metadata": {},
     "output_type": "execute_result"
    }
   ],
   "source": [
    "integers_sec_arr = np.arange(100,130)\n",
    "integers_sec_arr"
   ]
  },
  {
   "cell_type": "code",
   "execution_count": 4,
   "id": "4735b0bf-933e-40ab-a16d-a4ec52d9eb59",
   "metadata": {},
   "outputs": [
    {
     "data": {
      "text/plain": [
       "array([100, 102, 104, 106, 108, 110, 112, 114, 116, 118, 120, 122, 124,\n",
       "       126, 128, 130, 132, 134, 136, 138, 140, 142, 144, 146, 148, 150])"
      ]
     },
     "execution_count": 4,
     "metadata": {},
     "output_type": "execute_result"
    }
   ],
   "source": [
    "int_third_arr = np.arange(100,151,2)\n",
    "int_third_arr"
   ]
  },
  {
   "cell_type": "code",
   "execution_count": 6,
   "id": "6f7bbf1b-5597-4f54-9d4d-13f225330d25",
   "metadata": {},
   "outputs": [
    {
     "data": {
      "text/plain": [
       "array([10.        , 10.20408163, 10.40816327, 10.6122449 , 10.81632653,\n",
       "       11.02040816, 11.2244898 , 11.42857143, 11.63265306, 11.83673469,\n",
       "       12.04081633, 12.24489796, 12.44897959, 12.65306122, 12.85714286,\n",
       "       13.06122449, 13.26530612, 13.46938776, 13.67346939, 13.87755102,\n",
       "       14.08163265, 14.28571429, 14.48979592, 14.69387755, 14.89795918,\n",
       "       15.10204082, 15.30612245, 15.51020408, 15.71428571, 15.91836735,\n",
       "       16.12244898, 16.32653061, 16.53061224, 16.73469388, 16.93877551,\n",
       "       17.14285714, 17.34693878, 17.55102041, 17.75510204, 17.95918367,\n",
       "       18.16326531, 18.36734694, 18.57142857, 18.7755102 , 18.97959184,\n",
       "       19.18367347, 19.3877551 , 19.59183673, 19.79591837, 20.        ])"
      ]
     },
     "execution_count": 6,
     "metadata": {},
     "output_type": "execute_result"
    }
   ],
   "source": [
    "first_float_arr = np.linspace(10,20)\n",
    "first_float_arr"
   ]
  },
  {
   "cell_type": "code",
   "execution_count": 7,
   "id": "c3376606-8851-4680-99de-4dc04e187301",
   "metadata": {},
   "outputs": [
    {
     "data": {
      "text/plain": [
       "array([10. , 12.5, 15. , 17.5, 20. ])"
      ]
     },
     "execution_count": 7,
     "metadata": {},
     "output_type": "execute_result"
    }
   ],
   "source": [
    "second_float_arr = np.linspace(10,20,5)\n",
    "second_float_arr"
   ]
  },
  {
   "cell_type": "code",
   "execution_count": 8,
   "id": "0e38f25a-62a5-4bd8-b872-c6e44d9541d6",
   "metadata": {},
   "outputs": [
    {
     "data": {
      "text/plain": [
       "array([0.88486401, 0.35232894, 0.3931383 , 0.65932314, 0.04898854,\n",
       "       0.95723552, 0.53485009, 0.45236408, 0.64952163, 0.1055441 ])"
      ]
     },
     "execution_count": 8,
     "metadata": {},
     "output_type": "execute_result"
    }
   ],
   "source": [
    "first_rand_arr = np.random.rand(10)\n",
    "first_rand_arr"
   ]
  },
  {
   "cell_type": "code",
   "execution_count": 9,
   "id": "c10f64cb-7365-43ab-b94e-92ca0ed61c69",
   "metadata": {},
   "outputs": [
    {
     "data": {
      "text/plain": [
       "array([[0.20574729, 0.73831611, 0.94818346, 0.87010854],\n",
       "       [0.08392654, 0.75319884, 0.62674205, 0.37722829],\n",
       "       [0.79691906, 0.96519771, 0.13219575, 0.47709025],\n",
       "       [0.72156731, 0.31035044, 0.59041124, 0.13007131],\n",
       "       [0.97892075, 0.49950275, 0.1192105 , 0.81864288],\n",
       "       [0.52676075, 0.87830236, 0.84285307, 0.94414769],\n",
       "       [0.28926952, 0.92555439, 0.29988288, 0.86757276],\n",
       "       [0.5331169 , 0.72015002, 0.64770231, 0.40647576],\n",
       "       [0.7325867 , 0.6078569 , 0.18013277, 0.49479068],\n",
       "       [0.93238641, 0.5594991 , 0.82720145, 0.66425946]])"
      ]
     },
     "execution_count": 9,
     "metadata": {},
     "output_type": "execute_result"
    }
   ],
   "source": [
    "second_rand_arr = np.random.rand(10,4)\n",
    "second_rand_arr"
   ]
  },
  {
   "cell_type": "code",
   "execution_count": 10,
   "id": "b1b2253d-dc0a-44c6-8056-ccd196d5d20a",
   "metadata": {},
   "outputs": [
    {
     "data": {
      "text/plain": [
       "array([41, 84, 42, 66, 27, 41,  6, 18, 11, 58, 76, 73, 15, 11, 71, 13, 93,\n",
       "       17, 33, 91], dtype=int32)"
      ]
     },
     "execution_count": 10,
     "metadata": {},
     "output_type": "execute_result"
    }
   ],
   "source": [
    "third_rand_arr = np.random.randint(0,100,20)\n",
    "third_rand_arr"
   ]
  }
 ],
 "metadata": {
  "kernelspec": {
   "display_name": "Python 3 (ipykernel)",
   "language": "python",
   "name": "python3"
  },
  "language_info": {
   "codemirror_mode": {
    "name": "ipython",
    "version": 3
   },
   "file_extension": ".py",
   "mimetype": "text/x-python",
   "name": "python",
   "nbconvert_exporter": "python",
   "pygments_lexer": "ipython3",
   "version": "3.12.4"
  }
 },
 "nbformat": 4,
 "nbformat_minor": 5
}
