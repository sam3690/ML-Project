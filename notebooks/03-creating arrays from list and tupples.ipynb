{
 "cells": [
  {
   "cell_type": "code",
   "execution_count": 1,
   "id": "bab363b6-560f-455c-919c-6b029dfd2de0",
   "metadata": {},
   "outputs": [],
   "source": [
    "import numpy as np"
   ]
  },
  {
   "cell_type": "code",
   "execution_count": 2,
   "id": "726d7e2e-ca13-4c71-868e-1cffc1e586dd",
   "metadata": {},
   "outputs": [],
   "source": [
    "first_list=[1,2,3,4,5,6,7,8,9,10]"
   ]
  },
  {
   "cell_type": "code",
   "execution_count": 3,
   "id": "dc6dc9a1-59de-48f4-9dcc-9bcbaaaf481f",
   "metadata": {},
   "outputs": [
    {
     "data": {
      "text/plain": [
       "[1, 2, 3, 4, 5, 6, 7, 8, 9, 10]"
      ]
     },
     "execution_count": 3,
     "metadata": {},
     "output_type": "execute_result"
    }
   ],
   "source": [
    "first_list"
   ]
  },
  {
   "cell_type": "code",
   "execution_count": 6,
   "id": "eaba304a-56cd-4916-9bc6-76c63f8fb717",
   "metadata": {},
   "outputs": [
    {
     "data": {
      "text/plain": [
       "array([ 1,  2,  3,  4,  5,  6,  7,  8,  9, 10])"
      ]
     },
     "execution_count": 6,
     "metadata": {},
     "output_type": "execute_result"
    }
   ],
   "source": [
    "first_array = np.array(first_list)\n",
    "first_array"
   ]
  },
  {
   "cell_type": "code",
   "execution_count": 7,
   "id": "3d2e489f-62a7-4f71-9e62-4e92a8e8e965",
   "metadata": {},
   "outputs": [],
   "source": [
    "second_list =[1,2,3,-1.23,50,128000.56,4.56]"
   ]
  },
  {
   "cell_type": "code",
   "execution_count": 8,
   "id": "997accee-fc6a-4695-a73b-d71d2bda7b02",
   "metadata": {},
   "outputs": [
    {
     "data": {
      "text/plain": [
       "array([ 1.0000000e+00,  2.0000000e+00,  3.0000000e+00, -1.2300000e+00,\n",
       "        5.0000000e+01,  1.2800056e+05,  4.5600000e+00])"
      ]
     },
     "execution_count": 8,
     "metadata": {},
     "output_type": "execute_result"
    }
   ],
   "source": [
    "second_array = np.array(second_list)\n",
    "second_array"
   ]
  },
  {
   "cell_type": "code",
   "execution_count": 9,
   "id": "722f68a7-3bcd-46e0-81fc-29ebf68d30f7",
   "metadata": {},
   "outputs": [
    {
     "data": {
      "text/plain": [
       "dtype('float64')"
      ]
     },
     "execution_count": 9,
     "metadata": {},
     "output_type": "execute_result"
    }
   ],
   "source": [
    "second_array.dtype"
   ]
  },
  {
   "cell_type": "code",
   "execution_count": 10,
   "id": "b3d66d51-9a65-49f0-9ca5-e2503f44ab3e",
   "metadata": {},
   "outputs": [],
   "source": [
    "third_list=['Ann',111111,'Peter',111112,'Susan',111113,'John',111114]"
   ]
  },
  {
   "cell_type": "code",
   "execution_count": 11,
   "id": "158e52d8-dd94-47aa-89dc-079900278a5e",
   "metadata": {},
   "outputs": [
    {
     "data": {
      "text/plain": [
       "array(['Ann', '111111', 'Peter', '111112', 'Susan', '111113', 'John',\n",
       "       '111114'], dtype='<U21')"
      ]
     },
     "execution_count": 11,
     "metadata": {},
     "output_type": "execute_result"
    }
   ],
   "source": [
    "third_array = np.array(third_list)\n",
    "third_array"
   ]
  },
  {
   "cell_type": "code",
   "execution_count": 12,
   "id": "9e85ebc0-7811-4f45-8d0f-0d9eb0c5f56a",
   "metadata": {},
   "outputs": [
    {
     "data": {
      "text/plain": [
       "dtype('<U21')"
      ]
     },
     "execution_count": 12,
     "metadata": {},
     "output_type": "execute_result"
    }
   ],
   "source": [
    "third_array.dtype"
   ]
  },
  {
   "cell_type": "code",
   "execution_count": 13,
   "id": "37dfbdcd-9bb0-412e-873d-b879cb683549",
   "metadata": {},
   "outputs": [],
   "source": [
    "first_tupple = (5,10,15,20,25,30)"
   ]
  },
  {
   "cell_type": "code",
   "execution_count": 14,
   "id": "09e0ce86-16dd-4d9e-aacf-a86cf326633a",
   "metadata": {},
   "outputs": [
    {
     "data": {
      "text/plain": [
       "array([ 5, 10, 15, 20, 25, 30])"
      ]
     },
     "execution_count": 14,
     "metadata": {},
     "output_type": "execute_result"
    }
   ],
   "source": [
    "first_array_from_tupple = np.array(first_tupple)\n",
    "first_array_from_tupple"
   ]
  },
  {
   "cell_type": "code",
   "execution_count": 15,
   "id": "442dee49-8c25-4ea5-8006-edb53b69b58e",
   "metadata": {},
   "outputs": [
    {
     "data": {
      "text/plain": [
       "dtype('int64')"
      ]
     },
     "execution_count": 15,
     "metadata": {},
     "output_type": "execute_result"
    }
   ],
   "source": [
    "first_array_from_tupple.dtype"
   ]
  },
  {
   "cell_type": "code",
   "execution_count": 16,
   "id": "93574fe1-4509-400e-958d-cff5dd4b3926",
   "metadata": {},
   "outputs": [],
   "source": [
    "multi_dim_list = [[[0,1,2],[3,4,5]],[[6,7,8],[9,10,11]]]"
   ]
  },
  {
   "cell_type": "code",
   "execution_count": 17,
   "id": "aef16170-a5bd-4804-9ee9-a4fdb465c2ef",
   "metadata": {},
   "outputs": [
    {
     "data": {
      "text/plain": [
       "array([[[ 0,  1,  2],\n",
       "        [ 3,  4,  5]],\n",
       "\n",
       "       [[ 6,  7,  8],\n",
       "        [ 9, 10, 11]]])"
      ]
     },
     "execution_count": 17,
     "metadata": {},
     "output_type": "execute_result"
    }
   ],
   "source": [
    "arr_from_multi_dim_list = np.array(multi_dim_list)\n",
    "arr_from_multi_dim_list"
   ]
  },
  {
   "cell_type": "code",
   "execution_count": null,
   "id": "91d9e22a-f505-478e-baad-f37fe1af4498",
   "metadata": {},
   "outputs": [],
   "source": []
  }
 ],
 "metadata": {
  "kernelspec": {
   "display_name": "Python 3 (ipykernel)",
   "language": "python",
   "name": "python3"
  },
  "language_info": {
   "codemirror_mode": {
    "name": "ipython",
    "version": 3
   },
   "file_extension": ".py",
   "mimetype": "text/x-python",
   "name": "python",
   "nbconvert_exporter": "python",
   "pygments_lexer": "ipython3",
   "version": "3.12.4"
  }
 },
 "nbformat": 4,
 "nbformat_minor": 5
}
